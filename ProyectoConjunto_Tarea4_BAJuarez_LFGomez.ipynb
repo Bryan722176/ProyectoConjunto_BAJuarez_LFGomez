{
 "cells": [
  {
   "cell_type": "markdown",
   "metadata": {},
   "source": [
    "<img style=\"float: left; margin: 30px 15px 15px 15px;\" src=\"https://pngimage.net/wp-content/uploads/2018/06/logo-iteso-png-5.png\" width=\"300\" height=\"500\" /> \n",
    "    \n",
    "    \n",
    "### <font color='navy'> Simulación de procesos financieros. \n",
    "\n",
    "**Nombres:** \n",
    " - Bryan Azahel Juárez Pineda   \n",
    " - Luis Felipe Gómez Estrada  \n",
    "**Fecha:** 22 de febrero del 2021.\n",
    "\n",
    "**Expediente** : .  \n",
    "**Expediente** : IF722749.  \n",
    "**Profesor:** Oscar David Jaramillo Zuluaga.\n",
    "\n",
    "# Tarea 4: Clase 7"
   ]
  },
  {
   "cell_type": "markdown",
   "metadata": {},
   "source": [
    "\n",
    "### 1 Monte Carlo. \n",
    ">Como ejemplo simple de una simulación de Monte Carlo, considere calcular la probabilidad de una suma particular del lanzamiento de tres dados (cada dado tiene valores del uno al seis). Además cada dado tiene las siguientes carácterísticas: el primer dado no está cargado (distribución uniforme todos son equiprobables); el segundo y tercer dado están cargados basados en una distribución binomial con parámetros (`n=5, p=0.5` y `n=5, p=0.2`). Calcule la probabilidad de que la suma resultante sea 7, 14 o 18. \n",
    "\n",
    "### 2. Ejercicio de aplicación- Cafetería Central  \n",
    "> Premisas para la simulación:\n",
    ">  - Negocio de alimentos que vende bebidas y alimentos.\n",
    ">  - Negocio dentro del ITESO.\n",
    ">  - Negocio en cafetería central.\n",
    ">  - Tipo de clientes (hombres y mujeres).\n",
    ">  - Rentabilidad del 60%.  \n",
    "> **Objetivo**  \n",
    ">Realizar una simulación estimado el tiempo medio que se tardaran los clientes en ser atendidos entre el horario de 6:30 a 1 pm. Además saber el consumo. Analizar supuestos y limitantes    \n",
    "> **Supuestos**  \n",
    " * Mujer = 1 ⟶ aleatorio < 0.5  \n",
    " * Hombre = 0 ⟶ aleatorio ≥ 0.5.  \n",
    "> **Condiciones iniciales:**\n",
    " * Todas las distrubuciones de probabilidad se supondrán uniformes.\n",
    " * Tiempo de simulación: 6:30 am - 1:30pm $\\longrightarrow$ T = 7 horas = 25200 seg.\n",
    " * Tiempo de llegada hasta ser atendido: Min=5seg, Max=30seg.\n",
    " * Tiempo que tardan los clientes en ser atendidos:\n",
    "    - Mujer: Min = 1 min= 60seg, Max = 5 min = 300 seg\n",
    "    - Hombre: Min = 40 seg, Max = 2 min= 120 seg\n",
    " * Consumo según el tipo de cliente:\n",
    "    - Mujer: Min = 30 pesos, Max = 100 pesos\n",
    "    - Hombre: Min = 20 pesos, Max = 80 pesos\n",
    "Responder las siguientes preguntas basados en los datos del problema:\n",
    "1. ¿Cuáles fueron los gastos de los hombres y las mujeres en 5 días de trabajo?.\n",
    "2. ¿Cuál fue el consumo promedio de los hombres y mujeres?\n",
    "3. ¿Cuál fue el número de personas atendidas por día?\n",
    "4. ¿Cuál fue el tiempo de atención promedio?\n",
    "5. ¿Cuánto fue la ganancia promedio de la cafetería en 5 días de trabajo y su respectiva rentabilidad?"
   ]
  },
  {
   "cell_type": "markdown",
   "metadata": {},
   "source": [
    "## Luis Felipe Gómez Estrada"
   ]
  },
  {
   "cell_type": "code",
   "execution_count": 49,
   "metadata": {},
   "outputs": [],
   "source": [
    "import numpy as np\n",
    "import scipy.stats as st\n",
    "from functools import reduce"
   ]
  },
  {
   "cell_type": "code",
   "execution_count": 32,
   "metadata": {},
   "outputs": [
    {
     "name": "stdout",
     "output_type": "stream",
     "text": [
      "d2, d3 con distribución binomial n=5, p=0.5\n",
      "Probabilidad suma=7: 7.10%\n",
      "Probabilidad suma=14: 6.06%\n",
      "Probabilidad suma=18: 0.03%\n",
      "\n",
      "d2, d3 con distribución binomial n=5, p=0.2\n",
      "Probabilidad suma=7: 16.18%\n",
      "Probabilidad suma=14: 0.10%\n",
      "Probabilidad suma=18: 0.00%\n"
     ]
    }
   ],
   "source": [
    "########### Solución 1\n",
    "N = 10_000\n",
    "d1 = np.random.randint(1, 7, size=N)\n",
    "d2 = st.binom(n=5, p=0.5).rvs(size=N)+1\n",
    "d3 = st.binom(n=5, p=0.5).rvs(size=N)+1\n",
    "print('d2, d3 con distribución binomial n=5, p=0.5')\n",
    "print(f'Probabilidad suma=7: {((d1+d2+d3)==7).sum()*100/N:.2f}%')\n",
    "print(f'Probabilidad suma=14: {((d1+d2+d3)==14).sum()*100/N:.2f}%')\n",
    "print(f'Probabilidad suma=18: {((d1+d2+d3)==18).sum()*100/N:.2f}%')\n",
    "print()\n",
    "\n",
    "d1 = np.random.randint(1, 7, size=N)\n",
    "d2 = st.binom(n=5, p=0.2).rvs(size=N)+1\n",
    "d3 = st.binom(n=5, p=0.2).rvs(size=N)+1\n",
    "print('d2, d3 con distribución binomial n=5, p=0.2')\n",
    "print(f'Probabilidad suma=7: {((d1+d2+d3)==7).sum()*100/N:.2f}%')\n",
    "print(f'Probabilidad suma=14: {((d1+d2+d3)==14).sum()*100/N:.2f}%')\n",
    "print(f'Probabilidad suma=18: {((d1+d2+d3)==18).sum()*100/N:.2f}%')"
   ]
  },
  {
   "cell_type": "code",
   "execution_count": 116,
   "metadata": {},
   "outputs": [
    {
     "name": "stdout",
     "output_type": "stream",
     "text": [
      "Las mujeres gastaron $29032 durante los 5 días de trabajo.\n",
      "Los hombres gastaron $20497 durante los 5 días de trabajo.\n"
     ]
    }
   ],
   "source": [
    "########### Solución 2 - 1\n",
    "# ¿Cuáles fueron los gastos de los hombres y las mujeres en 5 días de trabajo?.\n",
    "def simular_tienda():\n",
    "    \"\"\" Simulación de cafetería.\n",
    "    Simula el consumo de una cafetería tomando en cuenta ciertos supuestos y condiciones iniciales.\n",
    "    \"\"\"\n",
    "    d = 5\n",
    "    T = 25200\n",
    "    T_at_min = 5; T_at_max = 30\n",
    "    T_mujer_min =60; T_mujer_max = 300\n",
    "    T_hombre_min = 40; T_hombre_max = 120\n",
    "    C_mujer_min = 30; C_mujer_max = 100\n",
    "    C_hombre_min = 20; C_hombre_max = 80\n",
    "\n",
    "    mujeres_atendidas = 0\n",
    "    hombres_atendidos = 0\n",
    "    personas_atendidas = 0\n",
    "\n",
    "    ingresos_h = 0\n",
    "    ingresos_w = 0\n",
    "    ingresos = 0\n",
    "    \n",
    "    t_atencion = 0\n",
    "\n",
    "    while T > 0:\n",
    "        # Tiempo en que te atienden\n",
    "        T -= np.random.randint(T_at_min, T_at_max + 1)\n",
    "\n",
    "        # Género de la persona\n",
    "        is_woman = 1 if np.random.rand() < 0.5 else 0\n",
    "\n",
    "        # Descontamos el tiempo y agregamos el gasto dependiendo del género\n",
    "        if is_woman:\n",
    "            tiempo = np.random.randint(T_mujer_min, T_mujer_max + 1)\n",
    "            mujeres_atendidas += 1\n",
    "            gasto = np.random.randint(C_mujer_min, C_mujer_max + 1)\n",
    "            ingresos_w += gasto\n",
    "        else:\n",
    "            tiempo = np.random.randint(T_hombre_min, T_hombre_max + 1)\n",
    "            hombres_atendidos += 1\n",
    "            gasto = np.random.randint(C_hombre_min, C_hombre_max + 1)\n",
    "            ingresos_h += gasto\n",
    "        # Descontamos el tiempo\n",
    "        T -= tiempo\n",
    "        t_atencion += tiempo\n",
    "        # Agregamos al total de ingresos\n",
    "        ingresos += gasto\n",
    "        # Sumamos a personas atendidas\n",
    "        personas_atendidas += 1\n",
    "    return ([mujeres_atendidas, hombres_atendidos, personas_atendidas], [ingresos_w, ingresos_h, ingresos], t_atencion)\n",
    "\n",
    "gasto_w, gasto_h = tuple(reduce(lambda x,y: [x[0]+y[0], x[1]+y[1]], \n",
    "                                [simular_tienda()[1][:2] for i in range(5)]))\n",
    "print(f'Las mujeres gastaron ${gasto_w} durante los 5 días de trabajo.')\n",
    "print(f'Los hombres gastaron ${gasto_h} durante los 5 días de trabajo.')"
   ]
  },
  {
   "cell_type": "code",
   "execution_count": 117,
   "metadata": {},
   "outputs": [
    {
     "name": "stdout",
     "output_type": "stream",
     "text": [
      "Consumo promedio de mujeres: $68.70\n",
      "Consumo promedio de hombres: $47.00\n"
     ]
    }
   ],
   "source": [
    "########### Solución 2 - 2\n",
    "# ¿Cuál fue el consumo promedio de los hombres y mujeres?\n",
    "clientes, ingresos, tiempo_atencion = simular_tienda()\n",
    "print(f'Consumo promedio de mujeres: ${ingresos[0] / clientes[0]:.2f}')\n",
    "print(f'Consumo promedio de hombres: ${ingresos[1] / clientes[1]:.2f}')"
   ]
  },
  {
   "cell_type": "code",
   "execution_count": 118,
   "metadata": {},
   "outputs": [
    {
     "name": "stdout",
     "output_type": "stream",
     "text": [
      "Clientes atendidos durante el día: 188\n"
     ]
    }
   ],
   "source": [
    "########### Solución 2 - 3\n",
    "# ¿Cuál fue el número de personas atendidas por día?\n",
    "print(f'Clientes atendidos durante el día: {clientes[2]}')"
   ]
  },
  {
   "cell_type": "code",
   "execution_count": 119,
   "metadata": {},
   "outputs": [
    {
     "name": "stdout",
     "output_type": "stream",
     "text": [
      "El tiempo de atención promedio de cada cliente fue: 117.52s\n"
     ]
    }
   ],
   "source": [
    "########### Solución 2 - 4\n",
    "# ¿Cuál fue el tiempo de atención promedio?\n",
    "print(f'El tiempo de atención promedio de cada cliente fue: {tiempo_atencion / clientes[2]:.2f}s')"
   ]
  },
  {
   "cell_type": "code",
   "execution_count": 120,
   "metadata": {},
   "outputs": [
    {
     "name": "stdout",
     "output_type": "stream",
     "text": [
      "La cafetería tuvo ingresos de $49529.00 \n",
      "y su rentabilidad fue de $29717.40\n"
     ]
    }
   ],
   "source": [
    "########### Solución 2 - 5\n",
    "# ¿Cuánto fue la ganancia promedio de la cafetería en 5 días de trabajo y su respectiva rentabilidad?\n",
    "ingresos_5_dias = gasto_w+gasto_h\n",
    "print(f'La cafetería tuvo ingresos de ${ingresos_5_dias:.2f} \\ny su rentabilidad fue de ${ingresos_5_dias*0.6:.2f}')"
   ]
  },
  {
   "cell_type": "markdown",
   "metadata": {},
   "source": [
    "# Bryan Azhael Júarez Pineda "
   ]
  },
  {
   "cell_type": "code",
   "execution_count": null,
   "metadata": {},
   "outputs": [],
   "source": []
  },
  {
   "cell_type": "code",
   "execution_count": 1,
   "metadata": {},
   "outputs": [],
   "source": [
    "########### Solución 1\n"
   ]
  },
  {
   "cell_type": "code",
   "execution_count": 2,
   "metadata": {},
   "outputs": [],
   "source": [
    "########### Solución 2 - 1\n",
    "d = 5\n",
    "T =25200\n",
    "T_at_min = 5; T_at_max = 30\n",
    "T_mujer_min =60; T_mujer_max = 300\n",
    "T_hombre_min = 40; T_hombre_max = 120\n",
    "C_mujer_min = 30; C_mujer_max = 100\n",
    "C_hombre_min = 20; C_hombre_max = 80"
   ]
  },
  {
   "cell_type": "code",
   "execution_count": 3,
   "metadata": {},
   "outputs": [],
   "source": [
    "########### Solución 2 - 2\n",
    "\n"
   ]
  },
  {
   "cell_type": "code",
   "execution_count": 4,
   "metadata": {},
   "outputs": [],
   "source": [
    "########### Solución 2 - 3\n"
   ]
  },
  {
   "cell_type": "code",
   "execution_count": 5,
   "metadata": {},
   "outputs": [],
   "source": [
    "########### Solución 2 - 4\n"
   ]
  },
  {
   "cell_type": "code",
   "execution_count": 6,
   "metadata": {},
   "outputs": [],
   "source": [
    "########### Solución 2 - 5\n"
   ]
  },
  {
   "cell_type": "markdown",
   "metadata": {},
   "source": [
    "Enlace repositorio: https://github.com/if722749/ProyectoConjunto_BAJuarez_LFGomez"
   ]
  }
 ],
 "metadata": {
  "kernelspec": {
   "display_name": "Python 3",
   "language": "python",
   "name": "python3"
  },
  "language_info": {
   "codemirror_mode": {
    "name": "ipython",
    "version": 3
   },
   "file_extension": ".py",
   "mimetype": "text/x-python",
   "name": "python",
   "nbconvert_exporter": "python",
   "pygments_lexer": "ipython3",
   "version": "3.8.3"
  }
 },
 "nbformat": 4,
 "nbformat_minor": 2
}
